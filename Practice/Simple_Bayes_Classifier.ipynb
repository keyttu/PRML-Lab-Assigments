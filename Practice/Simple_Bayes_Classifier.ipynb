{
  "nbformat": 4,
  "nbformat_minor": 0,
  "metadata": {
    "colab": {
      "name": "Simple Bayes Classifier.ipynb",
      "provenance": [],
      "collapsed_sections": []
    },
    "kernelspec": {
      "name": "python3",
      "display_name": "Python 3"
    }
  },
  "cells": [
    {
      "cell_type": "markdown",
      "metadata": {
        "id": "Tv82zMrm1K3Y",
        "colab_type": "text"
      },
      "source": [
        "# Problem Statement : \n",
        "## Simple Bayes Classifier\n",
        " \n"
      ]
    },
    {
      "cell_type": "markdown",
      "metadata": {
        "id": "64NW-2Yn2DE5",
        "colab_type": "text"
      },
      "source": [
        "# Importing the Libraries"
      ]
    },
    {
      "cell_type": "code",
      "metadata": {
        "id": "58IBGHoN23Nd",
        "colab_type": "code",
        "colab": {}
      },
      "source": [
        "import numpy as np\n",
        "import matplotlib.pyplot as plt"
      ],
      "execution_count": 0,
      "outputs": []
    },
    {
      "cell_type": "markdown",
      "metadata": {
        "id": "iRaBMHl0_Kg7",
        "colab_type": "text"
      },
      "source": [
        "# Creating the Dataset"
      ]
    },
    {
      "cell_type": "code",
      "metadata": {
        "id": "3NffRJoP23vU",
        "colab_type": "code",
        "colab": {}
      },
      "source": [
        "# Create Empty Lists\n",
        "X1 = []\n",
        "X2 = []\n",
        "# Assign Positive numbers to one list with noise\n",
        "for i in range(150):\n",
        "  k = np.random.randint(-100,800)\n",
        "  X1.append(k)\n",
        "# Assign same number of Negative numbers and make sure that they are not repeated\n",
        "while not len(X2)==len(X1):\n",
        "  k = np.random.randint(-800,100)\n",
        "  try:\n",
        "    X1.index(k)\n",
        "  except ValueError:\n",
        "    X2.append(k)"
      ],
      "execution_count": 0,
      "outputs": []
    },
    {
      "cell_type": "markdown",
      "metadata": {
        "id": "6aHQFkKl_PzA",
        "colab_type": "text"
      },
      "source": [
        "# Visualizing the Dataset"
      ]
    },
    {
      "cell_type": "code",
      "metadata": {
        "id": "EPVi2fUP3jms",
        "colab_type": "code",
        "outputId": "3771c771-dd7c-409b-9dbd-8102f5c3a77a",
        "colab": {
          "base_uri": "https://localhost:8080/",
          "height": 585
        }
      },
      "source": [
        "n = np.arange(len(X1))\n",
        "plt.scatter( X1, n,color='r')\n",
        "plt.scatter( X2, n, color='g')\n",
        "plt.show()\n",
        "\n",
        "\n",
        "plt.hist(X1)\n",
        "plt.hist(X2)"
      ],
      "execution_count": 55,
      "outputs": [
        {
          "output_type": "display_data",
          "data": {
            "image/png": "[encoded data removed]",
            "text/plain": [
              "<Figure size 432x288 with 1 Axes>"
            ]
          },
          "metadata": {
            "tags": []
          }
        },
        {
          "output_type": "execute_result",
          "data": {
            "text/plain": [
              "(array([19., 18.,  8., 15., 19., 18., 10., 18., 14., 11.]),\n",
              " array([-794. , -705.9, -617.8, -529.7, -441.6, -353.5, -265.4, -177.3,\n",
              "         -89.2,   -1.1,   87. ]),\n",
              " <a list of 10 Patch objects>)"
            ]
          },
          "metadata": {
            "tags": []
          },
          "execution_count": 55
        },
        {
          "output_type": "display_data",
          "data": {
            "image/png": "[encoded data removed]",
            "text/plain": [
              "<Figure size 432x288 with 1 Axes>"
            ]
          },
          "metadata": {
            "tags": []
          }
        }
      ]
    },
    {
      "cell_type": "markdown",
      "metadata": {
        "id": "4z1nFV4gzUtN",
        "colab_type": "text"
      },
      "source": [
        "# Parameters"
      ]
    },
    {
      "cell_type": "code",
      "metadata": {
        "id": "t67mssJUs88B",
        "colab_type": "code",
        "colab": {
          "base_uri": "https://localhost:8080/",
          "height": 54
        },
        "outputId": "f1b6eb0f-4421-4d74-921d-e413b57539c8"
      },
      "source": [
        "# Convert into Arrays\n",
        "X1= np.array(X1)\n",
        "X2= np.array(X2)\n",
        "\n",
        "X1_bar = X1.sum()/len(X1)\n",
        "X2_bar = X2.sum()/len(X2)\n",
        "\n",
        "X1_Var = np.var(X1)\n",
        "X2_Var = np.var(X2)\n",
        "\n",
        "print('The Mean of X1 is ' + str(X1_bar)+ ' and the Mean of X2 is '+ str(X2_bar))\n",
        "print('The Variance of X1 is ' + str(X1_Var)+ ' and the Variance of X2 is '+ str(X2_Var))"
      ],
      "execution_count": 69,
      "outputs": [
        {
          "output_type": "stream",
          "text": [
            "The Mean of X1 is 337.48 and the Mean of X2 is -372.20666666666665\n",
            "The Variance of X1 is 54390.63626666666 and the Variance of X2 is 64730.33728888889\n"
          ],
          "name": "stdout"
        }
      ]
    }
  ]
}