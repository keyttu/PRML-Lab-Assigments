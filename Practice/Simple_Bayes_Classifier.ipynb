{
  "nbformat": 4,
  "nbformat_minor": 0,
  "metadata": {
    "colab": {
      "name": "Simple Bayes Classifier.ipynb",
      "provenance": [],
      "collapsed_sections": []
    },
    "kernelspec": {
      "name": "python3",
      "display_name": "Python 3"
    }
  },
  "cells": [
    {
      "cell_type": "markdown",
      "metadata": {
        "id": "Tv82zMrm1K3Y",
        "colab_type": "text"
      },
      "source": [
        "# Problem Statement : \n",
        "## Simple Bayes Classifier\n",
        " \n"
      ]
    },
    {
      "cell_type": "markdown",
      "metadata": {
        "id": "64NW-2Yn2DE5",
        "colab_type": "text"
      },
      "source": [
        "# Importing the Libraries"
      ]
    },
    {
      "cell_type": "code",
      "metadata": {
        "id": "58IBGHoN23Nd",
        "colab_type": "code",
        "colab": {}
      },
      "source": [
        "import numpy as np\n",
        "import matplotlib.pyplot as plt"
      ],
      "execution_count": 0,
      "outputs": []
    },
    {
      "cell_type": "markdown",
      "metadata": {
        "id": "iRaBMHl0_Kg7",
        "colab_type": "text"
      },
      "source": [
        "# Creating the Dataset"
      ]
    },
    {
      "cell_type": "code",
      "metadata": {
        "id": "3NffRJoP23vU",
        "colab_type": "code",
        "colab": {}
      },
      "source": [
        "X1 = []\n",
        "X2 = []\n",
        "for i in range(50):\n",
        "  k = np.random.randint(-25,100)\n",
        "  X1.append(k)\n",
        "while not len(X2)==len(X1):\n",
        "  k = np.random.randint(-100,25)\n",
        "  try:\n",
        "    X1.index(k)\n",
        "  except ValueError:\n",
        "    X2.append(k)\n"
      ],
      "execution_count": 0,
      "outputs": []
    },
    {
      "cell_type": "markdown",
      "metadata": {
        "id": "6aHQFkKl_PzA",
        "colab_type": "text"
      },
      "source": [
        "# Visualizing the Dataset"
      ]
    },
    {
      "cell_type": "code",
      "metadata": {
        "id": "EPVi2fUP3jms",
        "colab_type": "code",
        "colab": {
          "base_uri": "https://localhost:8080/",
          "height": 265
        },
        "outputId": "26ea78af-a247-4e85-8edc-4bee25d4b6c2"
      },
      "source": [
        "n = np.arange(len(X1))\n",
        "plt.scatter( X1, n,color='r')\n",
        "plt.scatter( X2, n, color='g')\n",
        "plt.show()"
      ],
      "execution_count": 91,
      "outputs": [
        {
          "output_type": "display_data",
          "data": {
            "image/png": "[encoded data removed]",
            "text/plain": [
              "<Figure size 432x288 with 1 Axes>"
            ]
          },
          "metadata": {
            "tags": []
          }
        }
      ]
    }
  ]
}