{
 "cells": [
  {
   "cell_type": "code",
   "execution_count": 132,
   "metadata": {},
   "outputs": [],
   "source": [
    "import numpy as np\n",
    "import matplotlib.pyplot as plt\n",
    "import seaborn as sns\n",
    "import pandas as pd\n",
    "from numpy.linalg import det,inv \n",
    "\n",
    "data = pd.read_csv('Class1.csv')\n",
    "\n",
    "# data1 = data.loc[data['Risk']==1]\n",
    "# data2 = data.loc[data['Risk']==0]\n",
    "# data1 = data1.drop(['Risk'],axis=1)\n",
    "# data2 = data2.drop(['Risk'],axis=1)"
   ]
  },
  {
   "cell_type": "code",
   "execution_count": 94,
   "metadata": {},
   "outputs": [
    {
     "name": "stdout",
     "output_type": "stream",
     "text": [
      "(1266, 4)\n"
     ]
    }
   ],
   "source": [
    "print(np.shape(data))"
   ]
  },
  {
   "cell_type": "code",
   "execution_count": 110,
   "metadata": {},
   "outputs": [
    {
     "data": {
      "text/plain": [
       "4.5399929762484854e-05"
      ]
     },
     "execution_count": 110,
     "metadata": {},
     "output_type": "execute_result"
    }
   ],
   "source": [
    "np.exp(-10)"
   ]
  },
  {
   "cell_type": "code",
   "execution_count": 133,
   "metadata": {},
   "outputs": [],
   "source": [
    "d1_len = len(data)\n",
    "h = 4\n",
    "b=5\n",
    "m = np.zeros(b*h).reshape(b,h)\n",
    "C = np.zeros(b*h*h).reshape(b,h,h)\n",
    "w = np.ones(b)/b\n",
    "\n",
    "for i in range(b):\n",
    "    C[i] = np.eye(h,h)\n",
    "\n",
    "    \n",
    "def Gau(x,m,C):\n",
    "    #print(np.dot(np.dot((x-m).T,inv(C)),(x-m))-12.5*np.log(1/(2*np.pi))-0.5*np.log(det(C)))\n",
    "    lnprob = -0.5*np.dot(np.dot((x-m).T,inv(C)),(x-m))-2*np.log(1/(2*np.pi))-0.5*np.log(det(C))\n",
    "    if(lnprob>-10):\n",
    "        return np.exp(lnprob)\n",
    "    else:\n",
    "        return 0.0000001\n",
    "\n",
    "def denom_sum(n,x,m,C,w):\n",
    "    s=0\n",
    "    for i in range(n):\n",
    "        s=s+w[i]*Gau(x,m[i],C[i])\n",
    "    return s\n",
    "\n",
    "for i in range(b):\n",
    "    ind = np.random.randint(0,len(data))\n",
    "    m[i]=data.iloc[ind]"
   ]
  },
  {
   "cell_type": "code",
   "execution_count": 134,
   "metadata": {},
   "outputs": [
    {
     "data": {
      "text/plain": [
       "array([[  5.75341788,   5.68269705,   4.89030915,   6.15195312],\n",
       "       [-16.23856658,  -6.10660657, -10.92223958,  -4.4560106 ],\n",
       "       [  8.61766269,   6.34093402,   6.53368463,   8.25735516],\n",
       "       [ -1.39659905,  -3.88073277,  -5.75109153,  -0.46834317],\n",
       "       [ -5.39647392,  -8.66026159, -10.89790878,  -8.64351835]])"
      ]
     },
     "execution_count": 134,
     "metadata": {},
     "output_type": "execute_result"
    }
   ],
   "source": [
    "m"
   ]
  },
  {
   "cell_type": "code",
   "execution_count": 135,
   "metadata": {},
   "outputs": [],
   "source": [
    "p = np.zeros(b*d1_len).reshape(b,d1_len)\n",
    "for k in range(20):\n",
    "    for j in range(b):\n",
    "        for i in range(d1_len):\n",
    "            x = data.iloc[i].to_numpy()\n",
    "            #print(denom_sum(3,x,m,C,w))\n",
    "            p[j][i] = w[j]*Gau(x,m[j],C[j])/denom_sum(b,x,m,C,w)\n",
    "        X = data.iloc[:].to_numpy()\n",
    "#         print(np.shape(X))\n",
    "#         print(np.shape(p))\n",
    "        m[j]=np.dot(p[j].reshape(1,np.shape(p[j])[0]),X)/np.sum(p[j])\n",
    "        w[j]=np.sum(p[j])/d1_len\n",
    "        m_tmp = X-np.dot(np.ones((d1_len,1)),m[j].reshape(1,np.shape(m[[j]])[1]))\n",
    "        Ctmp = np.zeros(b*h*h).reshape(b,h,h)\n",
    "        Ctmp[j]=np.dot((m_tmp.T*(p[j].reshape(1,np.shape(p[j])[0]))),m_tmp)/np.sum(p[j])\n",
    "        for l in range(h):\n",
    "            C[j,l,l] = Ctmp[j,l,l]"
   ]
  },
  {
   "cell_type": "code",
   "execution_count": 137,
   "metadata": {},
   "outputs": [
    {
     "data": {
      "text/plain": [
       "array([[ -0.15826965,   2.33533576,   1.25389705,   1.39767006],\n",
       "       [  3.37630483,   0.58568413,   9.70341597,   3.46700548],\n",
       "       [  5.66585376,   5.58209431,   5.55897643,   5.23750524],\n",
       "       [ -4.65123748,  -5.0017821 ,  -4.85661016,  -4.84251857],\n",
       "       [  5.17317859,   0.47040025, -11.15371014,   3.27732916]])"
      ]
     },
     "execution_count": 137,
     "metadata": {},
     "output_type": "execute_result"
    }
   ],
   "source": [
    "m"
   ]
  },
  {
   "cell_type": "code",
   "execution_count": 91,
   "metadata": {},
   "outputs": [
    {
     "data": {
      "text/plain": [
       "array([[ 6.32,  6.35,  6.4 ,  6.22],\n",
       "       [-4.94, -5.1 , -5.08, -5.09],\n",
       "       [ 1.84,  3.  ,  2.45,  2.09],\n",
       "       [ 6.23, -3.61,  3.24,  0.42],\n",
       "       [-1.11,  5.68,  2.37,  5.9 ]])"
      ]
     },
     "execution_count": 91,
     "metadata": {},
     "output_type": "execute_result"
    }
   ],
   "source": [
    "import numpy as np\n",
    "from sklearn import mixture\n",
    "np.random.seed(1)\n",
    "g = mixture.GaussianMixture(n_components=5)\n",
    "# Generate random observations with two modes centered on 0\n",
    "# and 10 to use for training.\n",
    "obs = data\n",
    "g.fit(obs) \n",
    "\n",
    "np.round(g.weights_, 3)\n",
    "\n",
    "np.round(g.means_, 2)\n",
    "\n",
    "# np.round(g.covars_, 2) "
   ]
  },
  {
   "cell_type": "code",
   "execution_count": null,
   "metadata": {},
   "outputs": [],
   "source": []
  }
 ],
 "metadata": {
  "kernelspec": {
   "display_name": "Python 3",
   "language": "python",
   "name": "python3"
  },
  "language_info": {
   "codemirror_mode": {
    "name": "ipython",
    "version": 3
   },
   "file_extension": ".py",
   "mimetype": "text/x-python",
   "name": "python",
   "nbconvert_exporter": "python",
   "pygments_lexer": "ipython3",
   "version": "3.7.3"
  }
 },
 "nbformat": 4,
 "nbformat_minor": 2
}
